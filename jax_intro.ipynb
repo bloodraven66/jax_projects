{
  "nbformat": 4,
  "nbformat_minor": 0,
  "metadata": {
    "colab": {
      "name": "jax_intro.ipynb",
      "provenance": [],
      "collapsed_sections": []
    },
    "kernelspec": {
      "name": "python3",
      "display_name": "Python 3"
    },
    "accelerator": "GPU",
    "widgets": {
      "application/vnd.jupyter.widget-state+json": {
        "8411dafb3bff4a86a5f6e9c942fd223c": {
          "model_module": "@jupyter-widgets/controls",
          "model_name": "HBoxModel",
          "state": {
            "_view_name": "HBoxView",
            "_dom_classes": [],
            "_model_name": "HBoxModel",
            "_view_module": "@jupyter-widgets/controls",
            "_model_module_version": "1.5.0",
            "_view_count": null,
            "_view_module_version": "1.5.0",
            "box_style": "",
            "layout": "IPY_MODEL_e761fada2d5746dc87890d63136883a6",
            "_model_module": "@jupyter-widgets/controls",
            "children": [
              "IPY_MODEL_5df25d6966be4a368a9820e3ea0e559d",
              "IPY_MODEL_0e2e8395fedb47fc95d47ef08d3f7782"
            ]
          }
        },
        "e761fada2d5746dc87890d63136883a6": {
          "model_module": "@jupyter-widgets/base",
          "model_name": "LayoutModel",
          "state": {
            "_view_name": "LayoutView",
            "grid_template_rows": null,
            "right": null,
            "justify_content": null,
            "_view_module": "@jupyter-widgets/base",
            "overflow": null,
            "_model_module_version": "1.2.0",
            "_view_count": null,
            "flex_flow": null,
            "width": null,
            "min_width": null,
            "border": null,
            "align_items": null,
            "bottom": null,
            "_model_module": "@jupyter-widgets/base",
            "top": null,
            "grid_column": null,
            "overflow_y": null,
            "overflow_x": null,
            "grid_auto_flow": null,
            "grid_area": null,
            "grid_template_columns": null,
            "flex": null,
            "_model_name": "LayoutModel",
            "justify_items": null,
            "grid_row": null,
            "max_height": null,
            "align_content": null,
            "visibility": null,
            "align_self": null,
            "height": null,
            "min_height": null,
            "padding": null,
            "grid_auto_rows": null,
            "grid_gap": null,
            "max_width": null,
            "order": null,
            "_view_module_version": "1.2.0",
            "grid_template_areas": null,
            "object_position": null,
            "object_fit": null,
            "grid_auto_columns": null,
            "margin": null,
            "display": null,
            "left": null
          }
        },
        "5df25d6966be4a368a9820e3ea0e559d": {
          "model_module": "@jupyter-widgets/controls",
          "model_name": "FloatProgressModel",
          "state": {
            "_view_name": "ProgressView",
            "style": "IPY_MODEL_45391ec3cdd349ac85c1b2b4cd574a64",
            "_dom_classes": [],
            "description": "Training: 100%",
            "_model_name": "FloatProgressModel",
            "bar_style": "success",
            "max": 5,
            "_view_module": "@jupyter-widgets/controls",
            "_model_module_version": "1.5.0",
            "value": 5,
            "_view_count": null,
            "_view_module_version": "1.5.0",
            "orientation": "horizontal",
            "min": 0,
            "description_tooltip": null,
            "_model_module": "@jupyter-widgets/controls",
            "layout": "IPY_MODEL_979ebed920034195b52803583fc2dd43"
          }
        },
        "0e2e8395fedb47fc95d47ef08d3f7782": {
          "model_module": "@jupyter-widgets/controls",
          "model_name": "HTMLModel",
          "state": {
            "_view_name": "HTMLView",
            "style": "IPY_MODEL_ed0ceba7fb4040abb74193cf2b770a07",
            "_dom_classes": [],
            "description": "",
            "_model_name": "HTMLModel",
            "placeholder": "​",
            "_view_module": "@jupyter-widgets/controls",
            "_model_module_version": "1.5.0",
            "value": " 5/5 [00:44&lt;00:00,  9.00s/it]",
            "_view_count": null,
            "_view_module_version": "1.5.0",
            "description_tooltip": null,
            "_model_module": "@jupyter-widgets/controls",
            "layout": "IPY_MODEL_7c54243bf90c4deab2912ec6479e0ffe"
          }
        },
        "45391ec3cdd349ac85c1b2b4cd574a64": {
          "model_module": "@jupyter-widgets/controls",
          "model_name": "ProgressStyleModel",
          "state": {
            "_view_name": "StyleView",
            "_model_name": "ProgressStyleModel",
            "description_width": "initial",
            "_view_module": "@jupyter-widgets/base",
            "_model_module_version": "1.5.0",
            "_view_count": null,
            "_view_module_version": "1.2.0",
            "bar_color": null,
            "_model_module": "@jupyter-widgets/controls"
          }
        },
        "979ebed920034195b52803583fc2dd43": {
          "model_module": "@jupyter-widgets/base",
          "model_name": "LayoutModel",
          "state": {
            "_view_name": "LayoutView",
            "grid_template_rows": null,
            "right": null,
            "justify_content": null,
            "_view_module": "@jupyter-widgets/base",
            "overflow": null,
            "_model_module_version": "1.2.0",
            "_view_count": null,
            "flex_flow": null,
            "width": null,
            "min_width": null,
            "border": null,
            "align_items": null,
            "bottom": null,
            "_model_module": "@jupyter-widgets/base",
            "top": null,
            "grid_column": null,
            "overflow_y": null,
            "overflow_x": null,
            "grid_auto_flow": null,
            "grid_area": null,
            "grid_template_columns": null,
            "flex": null,
            "_model_name": "LayoutModel",
            "justify_items": null,
            "grid_row": null,
            "max_height": null,
            "align_content": null,
            "visibility": null,
            "align_self": null,
            "height": null,
            "min_height": null,
            "padding": null,
            "grid_auto_rows": null,
            "grid_gap": null,
            "max_width": null,
            "order": null,
            "_view_module_version": "1.2.0",
            "grid_template_areas": null,
            "object_position": null,
            "object_fit": null,
            "grid_auto_columns": null,
            "margin": null,
            "display": null,
            "left": null
          }
        },
        "ed0ceba7fb4040abb74193cf2b770a07": {
          "model_module": "@jupyter-widgets/controls",
          "model_name": "DescriptionStyleModel",
          "state": {
            "_view_name": "StyleView",
            "_model_name": "DescriptionStyleModel",
            "description_width": "",
            "_view_module": "@jupyter-widgets/base",
            "_model_module_version": "1.5.0",
            "_view_count": null,
            "_view_module_version": "1.2.0",
            "_model_module": "@jupyter-widgets/controls"
          }
        },
        "7c54243bf90c4deab2912ec6479e0ffe": {
          "model_module": "@jupyter-widgets/base",
          "model_name": "LayoutModel",
          "state": {
            "_view_name": "LayoutView",
            "grid_template_rows": null,
            "right": null,
            "justify_content": null,
            "_view_module": "@jupyter-widgets/base",
            "overflow": null,
            "_model_module_version": "1.2.0",
            "_view_count": null,
            "flex_flow": null,
            "width": null,
            "min_width": null,
            "border": null,
            "align_items": null,
            "bottom": null,
            "_model_module": "@jupyter-widgets/base",
            "top": null,
            "grid_column": null,
            "overflow_y": null,
            "overflow_x": null,
            "grid_auto_flow": null,
            "grid_area": null,
            "grid_template_columns": null,
            "flex": null,
            "_model_name": "LayoutModel",
            "justify_items": null,
            "grid_row": null,
            "max_height": null,
            "align_content": null,
            "visibility": null,
            "align_self": null,
            "height": null,
            "min_height": null,
            "padding": null,
            "grid_auto_rows": null,
            "grid_gap": null,
            "max_width": null,
            "order": null,
            "_view_module_version": "1.2.0",
            "grid_template_areas": null,
            "object_position": null,
            "object_fit": null,
            "grid_auto_columns": null,
            "margin": null,
            "display": null,
            "left": null
          }
        }
      }
    }
  },
  "cells": [
    {
      "cell_type": "code",
      "metadata": {
        "id": "TDEum_R-q-Xi",
        "colab_type": "code",
        "colab": {}
      },
      "source": [
        "import torch\n",
        "from torch.utils.data import DataLoader\n",
        "from torchvision.datasets import MNIST \n",
        "from torchvision import transforms\n",
        "from tqdm import tqdm_notebook as tqdm\n",
        "from jax.experimental import stax, optimizers\n",
        "from jax import random, grad, jit, vmap, value_and_grad\n",
        "import numpy as np\n",
        "from jax.experimental.stax import Conv, Dense, Flatten, Relu, LogSoftmax\n",
        "import warnings\n",
        "import time\n",
        "import matplotlib.pyplot as plt\n",
        "warnings.filterwarnings('ignore')"
      ],
      "execution_count": 8,
      "outputs": []
    },
    {
      "cell_type": "code",
      "metadata": {
        "id": "cKGOGkzaRf8G",
        "colab_type": "code",
        "colab": {}
      },
      "source": [
        "class Args():\n",
        "    def __init__(self):\n",
        "        self.bs = 256\n",
        "        self.no_classes = 10\n",
        "        self.key = random.PRNGKey(1)\n",
        "        self.no_epochs = 5\n",
        "        self.lr = 0.0001\n",
        "args = Args()"
      ],
      "execution_count": 11,
      "outputs": []
    },
    {
      "cell_type": "code",
      "metadata": {
        "id": "3F8BDW0AySGO",
        "colab_type": "code",
        "colab": {}
      },
      "source": [
        "tsfm = transforms.Compose([transforms.ToTensor(), transforms.Normalize((0.1307,), (0.3081,))])\n",
        "train_dataset = MNIST('/tmp/', train=True, download=True, transform=tsfm)\n",
        "test_dataset = MNIST('/tmp/', train=False, download=True, transform=tsfm)\n",
        "\n",
        "train_loader = DataLoader(train_dataset, batch_size=args.bs, shuffle=True, collate_fn=None)\n",
        "test_loader = DataLoader(test_dataset, batch_size=args.bs, shuffle=True, collate_fn=None)\n",
        "\n",
        "init_fun, model = stax.serial(Conv(4, (3, 3), (2, 2), padding=\"SAME\"), Relu,\n",
        "                                 Conv(8, (3, 3), (2, 2), padding=\"SAME\"), Relu,\n",
        "                                 Flatten, Dense(args.no_classes),\n",
        "                                 LogSoftmax)\n",
        "\n",
        "_, params = init_fun(args.key, (args.bs, 1, 28, 28))"
      ],
      "execution_count": 26,
      "outputs": []
    },
    {
      "cell_type": "code",
      "metadata": {
        "id": "vhgf2XoKyYWi",
        "colab_type": "code",
        "colab": {
          "base_uri": "https://localhost:8080/",
          "height": 103,
          "referenced_widgets": [
            "8411dafb3bff4a86a5f6e9c942fd223c",
            "e761fada2d5746dc87890d63136883a6",
            "5df25d6966be4a368a9820e3ea0e559d",
            "0e2e8395fedb47fc95d47ef08d3f7782",
            "45391ec3cdd349ac85c1b2b4cd574a64",
            "979ebed920034195b52803583fc2dd43",
            "ed0ceba7fb4040abb74193cf2b770a07",
            "7c54243bf90c4deab2912ec6479e0ffe"
          ]
        },
        "outputId": "639bcb70-78db-4182-ac1c-fe83365565fb"
      },
      "source": [
        "@jit\n",
        "def update(params, data, target, opt_state):\n",
        "    value, grads = value_and_grad(loss)(params, data, target)\n",
        "    opt_state = opt_update(0, grads, opt_state)\n",
        "    return get_params(opt_state), opt_state, value\n",
        "\n",
        "def one_hot(x, k, dtype=np.float32):\n",
        "    return np.array(x[:, None] == np.arange(k), dtype)\n",
        "\n",
        "def accuracy(params, loader, bar=False):\n",
        "    correct_count = 0\n",
        "    for data, target in tqdm(loader, disable=bar, desc='Evaluating'):\n",
        "        target = one_hot(np.array(target), args.no_classes)\n",
        "        target_class = np.argmax(target, axis=1)\n",
        "        pred_class = np.argmax(model(params, np.array(data)), axis=1)\n",
        "        correct_count += np.sum(pred_class == target_class)\n",
        "    return correct_count/len(loader.dataset)\n",
        "\n",
        "def loss(params, images, targets):\n",
        "    preds = model(params, images)\n",
        "    return -np.sum(preds * targets)\n",
        "\n",
        "def train(opt_state, epochs=10):\n",
        "\n",
        "    metrics = {'train':[], 'test':[], 'loss':[]}\n",
        "    params = get_params(opt_state)\n",
        "    # metrics['train'].append(round(accuracy(params, train_loader), 2))\n",
        "    # metrics['test'].append(round(accuracy(params, test_loader), 2))\n",
        "    start = time.time()\n",
        "    for epoch in tqdm(range(epochs), desc='Training'):\n",
        "        for data, target in train_loader:\n",
        "            target = one_hot(np.array(target), args.no_classes)\n",
        "            params, opt_state, loss = update(params, np.array(data), target, opt_state)\n",
        "            metrics['loss'].append(loss)\n",
        "        # metrics['train'].append(round(accuracy(params, train_loader, bar=True), 2))\n",
        "    end = time.time() - start\n",
        "    metrics['test'].append(round(accuracy(params, test_loader, bar=True), 2))\n",
        "    return metrics, end\n",
        "args.lr = 0.005\n",
        "opt_init, opt_update, get_params = optimizers.adam(args.lr)\n",
        "opt_state = opt_init(params)\n",
        "\n",
        "metrics, end = train(opt_state, epochs=5)\n",
        "# plot_accuracy(metrics)\n",
        "print(\"Max test accuracy: {}\".format(max(metrics['test'])))\n",
        "print(\"Total time elapsed: {}\".format(end))"
      ],
      "execution_count": 27,
      "outputs": [
        {
          "output_type": "display_data",
          "data": {
            "application/vnd.jupyter.widget-view+json": {
              "model_id": "8411dafb3bff4a86a5f6e9c942fd223c",
              "version_minor": 0,
              "version_major": 2
            },
            "text/plain": [
              "HBox(children=(FloatProgress(value=0.0, description='Training', max=5.0, style=ProgressStyle(description_width…"
            ]
          },
          "metadata": {
            "tags": []
          }
        },
        {
          "output_type": "stream",
          "text": [
            "\n",
            "Max test accuracy: 0.94\n",
            "Total time elapsed: 44.977105379104614\n"
          ],
          "name": "stdout"
        }
      ]
    },
    {
      "cell_type": "markdown",
      "metadata": {
        "id": "uvc5PJdrjgh5",
        "colab_type": "text"
      },
      "source": [
        "Max test accuracy: 0.94 <br>\n",
        "Training time : 45 sec\n",
        "\n"
      ]
    },
    {
      "cell_type": "code",
      "metadata": {
        "id": "oN6C7A0UiWXm",
        "colab_type": "code",
        "colab": {}
      },
      "source": [
        "import torch\n",
        "import torch.nn as nn\n",
        "import torch.nn.functional as F\n",
        "import torch.optim as optim\n",
        "class Net(nn.Module):\n",
        "    def __init__(self):\n",
        "        super(Net, self).__init__()\n",
        "        self.conv1 = nn.Conv2d(1, 32, 3, 1)\n",
        "        self.conv2 = nn.Conv2d(32, 64, 3, 1)\n",
        "        self.fc1 = nn.Linear(9216, 10)\n",
        "\n",
        "    def forward(self, x):\n",
        "        x = self.conv1(x)\n",
        "        x = F.relu(x)\n",
        "        x = self.conv2(x)\n",
        "        x = F.relu(x)\n",
        "        x = F.max_pool2d(x, 2)\n",
        "        x = torch.flatten(x, 1)\n",
        "        x = self.fc1(x)\n",
        "        output = F.log_softmax(x, dim=1)\n",
        "        return output\n",
        "\n",
        "\n",
        "def train(model, device, train_loader, optimizer, epoch):\n",
        "    model.train()\n",
        "    for batch_idx, (data, target) in enumerate(train_loader):\n",
        "        data, target = data.to(device), target.to(device)\n",
        "        optimizer.zero_grad()\n",
        "        output = model(data)\n",
        "        loss = F.nll_loss(output, target)\n",
        "        loss.backward()\n",
        "        optimizer.step()\n",
        "\n",
        "    print('Train Epoch: {} [{}/{} ({:.0f}%)]\\tLoss: {:.6f}'.format(\n",
        "        epoch, batch_idx * len(data), len(train_loader.dataset),\n",
        "        100. * batch_idx / len(train_loader), loss.item()))\n",
        "\n",
        "\n",
        "\n",
        "def test(model, device, test_loader):\n",
        "    model.eval()\n",
        "    test_loss = 0\n",
        "    correct = 0\n",
        "    with torch.no_grad():\n",
        "        for data, target in test_loader:\n",
        "            data, target = data.to(device), target.to(device)\n",
        "            output = model(data)\n",
        "            test_loss += F.nll_loss(output, target, reduction='sum').item()  # sum up batch loss\n",
        "            pred = output.argmax(dim=1, keepdim=True)  # get the index of the max log-probability\n",
        "            correct += pred.eq(target.view_as(pred)).sum().item()\n",
        "\n",
        "    test_loss /= len(test_loader.dataset)\n",
        "    \n",
        "    print('\\nTest set: Average loss: {:.4f}, Accuracy: {}/{} ({:.0f}%)\\n'.format(\n",
        "        test_loss, correct, len(test_loader.dataset),\n",
        "        100. * correct / len(test_loader.dataset)))\n"
      ],
      "execution_count": 28,
      "outputs": []
    },
    {
      "cell_type": "code",
      "metadata": {
        "id": "4bhFDHyAkKPB",
        "colab_type": "code",
        "colab": {
          "base_uri": "https://localhost:8080/",
          "height": 179
        },
        "outputId": "2aa9363b-50ee-4898-cd8f-4087322eaeb8"
      },
      "source": [
        "device = torch.device(\"cuda\")\n",
        "model = Net().to(device)\n",
        "\n",
        "optimizer = optim.Adam(model.parameters(), lr=0.005)\n",
        "start = time.time()\n",
        "for epoch in range(5):\n",
        "        train(model, device, train_loader, optimizer, epoch)\n",
        "end = time.time() - start\n",
        "test(model, device, test_loader)\n",
        "print('time taken: {}'.format(end))"
      ],
      "execution_count": 32,
      "outputs": [
        {
          "output_type": "stream",
          "text": [
            "Train Epoch: 0 [22464/60000 (100%)]\tLoss: 0.021103\n",
            "Train Epoch: 1 [22464/60000 (100%)]\tLoss: 0.085423\n",
            "Train Epoch: 2 [22464/60000 (100%)]\tLoss: 0.014231\n",
            "Train Epoch: 3 [22464/60000 (100%)]\tLoss: 0.006445\n",
            "Train Epoch: 4 [22464/60000 (100%)]\tLoss: 0.073616\n",
            "\n",
            "Test set: Average loss: 0.0515, Accuracy: 9855/10000 (99%)\n",
            "\n",
            "time taken: 42.83162713050842\n"
          ],
          "name": "stdout"
        }
      ]
    },
    {
      "cell_type": "markdown",
      "metadata": {
        "id": "h7q4_M8jtpAR",
        "colab_type": "text"
      },
      "source": [
        ""
      ]
    },
    {
      "cell_type": "markdown",
      "metadata": {
        "id": "EDCMDPUctrYd",
        "colab_type": "text"
      },
      "source": [
        "99 acc, 43 sec"
      ]
    },
    {
      "cell_type": "code",
      "metadata": {
        "id": "tELQo0uGtpy-",
        "colab_type": "code",
        "colab": {}
      },
      "source": [
        ""
      ],
      "execution_count": null,
      "outputs": []
    }
  ]
}